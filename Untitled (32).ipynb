{
 "cells": [
  {
   "cell_type": "code",
   "execution_count": 1,
   "id": "512c186c-b456-469b-8137-ced6cb22ab3c",
   "metadata": {},
   "outputs": [],
   "source": [
    "#Ans 1"
   ]
  },
  {
   "cell_type": "code",
   "execution_count": 2,
   "id": "9743677b-70e0-4cf4-8631-1a105f818d3c",
   "metadata": {},
   "outputs": [],
   "source": [
    "# Estimation statistics refers to the process of using sample data to make inferences or estimates about population parameters. It involves using the information obtained from a sample to make educated guesses about the characteristics of a larger population.\n",
    "\n",
    "# Point Estimate:\n",
    "# A point estimate is a single value that is calculated from the sample data and is used to estimate an unknown population parameter. It provides a \"best guess\" or a single numerical value as an estimate. For example, if you want to estimate the population mean, you can calculate the sample mean and use it as a point estimate for the population mean.\n",
    "\n",
    "# Interval Estimate:\n",
    "# An interval estimate, also known as a confidence interval, is a range of values that is constructed around the point estimate. It provides a measure of the uncertainty associated with the point estimate. Instead of providing a single value, an interval estimate provides a range of values within which the population parameter is likely to fall. The interval is usually expressed with a level of confidence, such as a 95% confidence interval. This means that if you were to take repeated samples and construct confidence intervals, approximately 95% of those intervals would contain the true population parameter.\n",
    "\n",
    "# For example, suppose you calculate a point estimate of the population mean as 50, and you construct a 95% confidence interval for the population mean as (45, 55). This interval estimate suggests that you are 95% confident that the true population mean falls between 45 and 55 based on the sample data.\n",
    "\n",
    "# In summary, a point estimate provides a single value as an estimate of a population parameter, while an interval estimate provides a range of values that are likely to contain the population parameter with a certain level of confidence."
   ]
  },
  {
   "cell_type": "code",
   "execution_count": 3,
   "id": "14f63411-0f4f-4360-a3af-bbbb425cafaa",
   "metadata": {},
   "outputs": [],
   "source": [
    "#Ans 2"
   ]
  },
  {
   "cell_type": "code",
   "execution_count": 4,
   "id": "d4e58159-f636-4cb5-8812-a5ebbf464c87",
   "metadata": {},
   "outputs": [],
   "source": [
    "import math\n",
    "\n",
    "def estimate_population_mean(sample_mean, sample_std_dev, sample_size):\n",
    "    # Calculate the standard error\n",
    "    standard_error = sample_std_dev / math.sqrt(sample_size)\n",
    "    \n",
    "    # Calculate the margin of error\n",
    "    margin_of_error = 1.96 * standard_error  # Assuming a 95% confidence interval\n",
    "    \n",
    "    # Calculate the lower and upper bounds of the confidence interval\n",
    "    lower_bound = sample_mean - margin_of_error\n",
    "    upper_bound = sample_mean + margin_of_error\n",
    "    \n",
    "    # Return the estimate and confidence interval\n",
    "    return sample_mean, lower_bound, upper_bound\n"
   ]
  },
  {
   "cell_type": "code",
   "execution_count": 5,
   "id": "2f7d7a70-bf83-4cd6-87cf-a0563a7a6e7d",
   "metadata": {},
   "outputs": [],
   "source": [
    "# In this function, we assume a 95% confidence interval, which corresponds to a z-value of 1.96 for a large enough sample size. You can adjust this value if you want a different level of confidence.\n",
    "\n",
    "# To use the function, provide the sample mean, sample standard deviation, and sample size as arguments. It will return the estimate of the population mean and the lower and upper bounds of the confidence interval.\n",
    "\n",
    "# Here's an example of how to use the function:"
   ]
  },
  {
   "cell_type": "code",
   "execution_count": 6,
   "id": "db255527-4c6f-4847-9fc0-dab366a28534",
   "metadata": {},
   "outputs": [
    {
     "name": "stdout",
     "output_type": "stream",
     "text": [
      "Estimate: 10.5\n",
      "Confidence Interval: 10.0492 - 10.9508\n"
     ]
    }
   ],
   "source": [
    "sample_mean = 10.5\n",
    "sample_std_dev = 2.3\n",
    "sample_size = 100\n",
    "\n",
    "estimate, lower_bound, upper_bound = estimate_population_mean(sample_mean, sample_std_dev, sample_size)\n",
    "\n",
    "print(\"Estimate:\", estimate)\n",
    "print(\"Confidence Interval:\", lower_bound, \"-\", upper_bound)\n"
   ]
  },
  {
   "cell_type": "code",
   "execution_count": 7,
   "id": "bf23a84e-4a16-4ee2-aaf8-33fbdc1e7e63",
   "metadata": {},
   "outputs": [],
   "source": [
    "# Please note that this function assumes that the sample is representative of the population and follows a normal distribution. Additionally, it is designed for large sample sizes where the Central Limit Theorem holds. For small sample sizes, different methods, such as t-distribution, should be used."
   ]
  },
  {
   "cell_type": "code",
   "execution_count": 8,
   "id": "c4ae0427-17a1-4796-8964-a55dae7d4425",
   "metadata": {},
   "outputs": [],
   "source": [
    "#Ans 3"
   ]
  },
  {
   "cell_type": "code",
   "execution_count": 9,
   "id": "d43b7f86-e147-4e56-9eac-f8aa625f8132",
   "metadata": {},
   "outputs": [],
   "source": [
    "# Hypothesis testing is a statistical procedure used to make inferences about a population based on sample data. It involves formulating a hypothesis about the population parameter, collecting sample data, and using statistical techniques to assess the evidence against the hypothesis.\n",
    "\n",
    "# The main purpose of hypothesis testing is to make decisions or draw conclusions about a population based on limited sample information. It allows researchers and analysts to evaluate whether the observed data provides enough evidence to support or reject a particular claim or hypothesis about the population.\n",
    "\n",
    "# The importance of hypothesis testing can be summarized as follows:\n",
    "\n",
    "# 1. Drawing conclusions: Hypothesis testing enables us to draw conclusions about the population based on a sample. By collecting and analyzing data, we can determine if the evidence supports or contradicts a specific claim or hypothesis.\n",
    "\n",
    "# 2. Objective decision-making: Hypothesis testing provides a structured and objective framework for decision-making. It allows researchers to make decisions based on statistical evidence rather than personal bias or subjective opinions.\n",
    "\n",
    "# 3. Testing theories and hypotheses: Hypothesis testing is crucial for testing theories and hypotheses proposed in various fields of study. It helps researchers assess the validity of their hypotheses and theories by examining whether the data supports or refutes them.\n",
    "\n",
    "# 4. Scientific research: Hypothesis testing is fundamental to the scientific method. It allows scientists to make empirical claims and subject them to rigorous testing. By testing hypotheses, scientists can advance knowledge and refine theories in their respective fields.\n",
    "\n",
    "# 5. Informed decision-making: Hypothesis testing provides valuable information for decision-making in various domains, including business, healthcare, social sciences, and more. It helps decision-makers evaluate the effectiveness of interventions, compare alternative strategies, or assess the impact of certain factors.\n",
    "\n",
    "# 6. Quality control and process improvement: Hypothesis testing is used extensively in quality control and process improvement. By conducting hypothesis tests, organizations can determine if changes in processes or systems lead to significant improvements or identify areas that require further attention.\n",
    "\n",
    "# In summary, hypothesis testing is a powerful statistical tool that allows us to draw conclusions, make informed decisions, test theories, and contribute to scientific research. It plays a critical role in providing evidence-based insights and guiding decision-making in various fields."
   ]
  },
  {
   "cell_type": "code",
   "execution_count": 10,
   "id": "621e44fb-fcab-4232-98e1-e2cbed0dcadb",
   "metadata": {},
   "outputs": [],
   "source": [
    "#Ans 4"
   ]
  },
  {
   "cell_type": "code",
   "execution_count": 11,
   "id": "f234b1e1-7174-4738-82d6-ebdbc7e3473c",
   "metadata": {},
   "outputs": [],
   "source": [
    "# Null Hypothesis (H0): The average weight of male college students is equal to or less than the average weight of female college students.\n",
    "\n",
    "# Alternative Hypothesis (H1): The average weight of male college students is greater than the average weight of female college students.\n",
    "\n",
    "# In symbolic notation:\n",
    "\n",
    "# H0: μ_male ≤ μ_female\n",
    "\n",
    "# H1: μ_male > μ_female\n",
    "\n",
    "# Here, μ_male represents the population mean weight of male college students, and μ_female represents the population mean weight of female college students.\n",
    "\n",
    "# The null hypothesis assumes that there is no significant difference or that the average weight of male college students is equal to or less than the average weight of female college students. The alternative hypothesis suggests that there is a significant difference, specifically that the average weight of male college students is greater than the average weight of female college students.\n",
    "\n",
    "# To test this hypothesis, you would collect a sample of male and female college students, measure their weights, and perform a statistical test, such as a t-test or a z-test, to evaluate the evidence against the null hypothesis. The results of the test will help determine whether there is enough evidence to reject the null hypothesis in favor of the alternative hypothesis."
   ]
  },
  {
   "cell_type": "code",
   "execution_count": 12,
   "id": "281fa2b0-81de-47d2-819c-2d7d05797bc8",
   "metadata": {},
   "outputs": [],
   "source": [
    "#Ans 5"
   ]
  },
  {
   "cell_type": "code",
   "execution_count": 13,
   "id": "b09d2b54-568d-4d6c-b8aa-edb9b99fbdf6",
   "metadata": {},
   "outputs": [
    {
     "name": "stdout",
     "output_type": "stream",
     "text": [
      "Test statistic: 0.9793886745740684\n",
      "p-value: 0.35607292974455285\n",
      "Result: Fail to reject the null hypothesis\n"
     ]
    }
   ],
   "source": [
    "import scipy.stats as stats\n",
    "\n",
    "def two_sample_t_test(sample1, sample2, alpha):\n",
    "    # Calculate the sample statistics\n",
    "    n1 = len(sample1)\n",
    "    n2 = len(sample2)\n",
    "    mean1 = sum(sample1) / n1\n",
    "    mean2 = sum(sample2) / n2\n",
    "    var1 = sum((x - mean1)**2 for x in sample1) / (n1 - 1)\n",
    "    var2 = sum((x - mean2)**2 for x in sample2) / (n2 - 1)\n",
    "\n",
    "    # Calculate the test statistic\n",
    "    t_stat = (mean1 - mean2) / ((var1/n1 + var2/n2)**0.5)\n",
    "\n",
    "    # Calculate the degrees of freedom\n",
    "    dof = n1 + n2 - 2\n",
    "\n",
    "    # Calculate the p-value\n",
    "    p_value = 2 * (1 - stats.t.cdf(abs(t_stat), dof))\n",
    "\n",
    "    # Perform the hypothesis test\n",
    "    if p_value < alpha:\n",
    "        result = \"Reject the null hypothesis\"\n",
    "    else:\n",
    "        result = \"Fail to reject the null hypothesis\"\n",
    "\n",
    "    return t_stat, p_value, result\n",
    "\n",
    "# Example usage\n",
    "sample1 = [60, 65, 70, 75, 80]  # Sample from population 1\n",
    "sample2 = [55, 62, 68, 70, 72]  # Sample from population 2\n",
    "alpha = 0.05  # Significance level\n",
    "\n",
    "t_stat, p_value, result = two_sample_t_test(sample1, sample2, alpha)\n",
    "\n",
    "print(\"Test statistic:\", t_stat)\n",
    "print(\"p-value:\", p_value)\n",
    "print(\"Result:\", result)\n"
   ]
  },
  {
   "cell_type": "code",
   "execution_count": 14,
   "id": "cc3a5add-64ee-4b20-8a61-45a75faa2dbd",
   "metadata": {},
   "outputs": [],
   "source": [
    "# In this script, sample1 and sample2 represent the samples from the two populations. alpha is the chosen significance level, which determines the threshold for rejecting the null hypothesis. The script calculates the test statistic, degrees of freedom, and the p-value associated with the hypothesis test. It then compares the p-value to the significance level and provides the result of the hypothesis test.\n",
    "\n",
    "# Please note that this script assumes that the samples are independent and that the populations follow approximately normal distributions. It also assumes that the population variances are equal. If these assumptions are violated or the samples are small, other tests or adjustments may be necessary."
   ]
  },
  {
   "cell_type": "code",
   "execution_count": 15,
   "id": "296766f5-6392-47f9-ae38-c6bb5b74ce0e",
   "metadata": {},
   "outputs": [],
   "source": [
    "#Ans 6"
   ]
  },
  {
   "cell_type": "code",
   "execution_count": 16,
   "id": "be10f842-7a75-40d9-ba18-5bd2483de5d8",
   "metadata": {},
   "outputs": [],
   "source": [
    "# In statistical hypothesis testing, the null hypothesis (H0) and alternative hypothesis (H1 or Ha) are two complementary statements that are used to make inferences about a population based on sample data. Here's an explanation of both types of hypotheses along with examples:\n",
    "\n",
    "# Null Hypothesis (H0):\n",
    "# The null hypothesis is the default or initial assumption made in a hypothesis test. It states that there is no significant difference or relationship between variables or that any observed difference is due to random chance. The goal of hypothesis testing is to assess the evidence against the null hypothesis and either reject or fail to reject it.\n",
    "\n",
    "# Example 1: Null Hypothesis for a Coin Toss\n",
    "# H0: The coin is fair and has an equal probability of landing heads or tails.\n",
    "\n",
    "# Example 2: Null Hypothesis for a Medical Treatment\n",
    "# H0: The new drug has no effect on patient recovery compared to the standard treatment.\n",
    "\n",
    "# Alternative Hypothesis (H1 or Ha):\n",
    "# The alternative hypothesis represents the contrary or opposite statement to the null hypothesis. It states that there is a significant difference or relationship between variables, suggesting that any observed effect is not due to random chance. The alternative hypothesis is what researchers or analysts are typically interested in supporting with evidence.\n",
    "\n",
    "# Example 1: Alternative Hypothesis for a Coin Toss\n",
    "# H1: The coin is biased and has a higher probability of landing heads.\n",
    "\n",
    "# Example 2: Alternative Hypothesis for a Medical Treatment\n",
    "# H1: The new drug leads to faster patient recovery compared to the standard treatment.\n",
    "\n",
    "# It's important to note that the null and alternative hypotheses are mutually exclusive and exhaustive, meaning that one of them must be true. The goal of hypothesis testing is to evaluate the evidence in the sample data and determine whether it provides enough support to reject the null hypothesis in favor of the alternative hypothesis.\n",
    "\n",
    "# The decision to reject or fail to reject the null hypothesis is based on statistical analysis and the calculation of p-values or confidence intervals. The outcome of the hypothesis test provides evidence for or against the alternative hypothesis and guides conclusions and further research."
   ]
  },
  {
   "cell_type": "code",
   "execution_count": 17,
   "id": "0566f384-a004-489b-b331-4ac9382abab4",
   "metadata": {},
   "outputs": [],
   "source": [
    "#Ans 7"
   ]
  },
  {
   "cell_type": "code",
   "execution_count": 18,
   "id": "64e37b65-e0ee-45fc-b947-6695d7365b60",
   "metadata": {},
   "outputs": [],
   "source": [
    "# The steps involved in hypothesis testing are as follows:\n",
    "\n",
    "# 1. Formulate the null and alternative hypotheses:\n",
    "\n",
    "# Clearly define the null hypothesis (H0), which represents the assumption of no significant difference or relationship.\n",
    "# Define the alternative hypothesis (H1 or Ha), which represents the desired outcome or the opposite of the null hypothesis.\n",
    "# 2. Determine the significance level (alpha):\n",
    "\n",
    "# Choose the significance level (alpha) that determines the threshold for rejecting the null hypothesis.\n",
    "# Commonly used significance levels are 0.05 (5%) or 0.01 (1%), but it can vary depending on the specific context and requirements.\n",
    "# 3. Select the appropriate test statistic:\n",
    "\n",
    "# Identify the appropriate statistical test or test statistic based on the research question, type of data, and assumptions.\n",
    "# The choice of test statistic depends on factors such as sample size, data type (continuous or categorical), and whether the samples are dependent or independent.\n",
    "# 4. Collect sample data:\n",
    "\n",
    "# Gather data from the population of interest through sampling techniques.\n",
    "# Ensure that the data collected aligns with the assumptions of the selected statistical test.\n",
    "# 5. Calculate the test statistic and p-value:\n",
    "\n",
    "# Compute the test statistic using the sample data and the chosen test statistic formula.\n",
    "# Determine the p-value, which is the probability of observing the test statistic or a more extreme value under the null hypothesis.\n",
    "# 6. Make a decision:\n",
    "\n",
    "# Compare the calculated p-value to the significance level (alpha) to make a decision.\n",
    "# If the p-value is less than alpha, reject the null hypothesis and accept the alternative hypothesis.\n",
    "# If the p-value is greater than or equal to alpha, fail to reject the null hypothesis.\n",
    "# 7. Interpret the results:\n",
    "\n",
    "# Provide an interpretation of the decision in the context of the research question and hypothesis.\n",
    "# Discuss the implications of the findings and the evidence provided by the hypothesis test.\n",
    "# 8. Consider the limitations and assumptions:\n",
    "\n",
    "# Acknowledge the limitations and assumptions of the hypothesis test.\n",
    "# Discuss potential sources of bias, assumptions made, and any other factors that could impact the validity of the results.\n",
    "# 9. Draw conclusions and communicate results:\n",
    "\n",
    "# Summarize the findings, including the decision regarding the null hypothesis, the test statistic, the p-value, and the interpretation.\n",
    "# Communicate the results in a clear and concise manner, considering the target audience and their level of statistical knowledge.\n",
    "# It's important to note that these steps provide a general framework for hypothesis testing, and the specific details and procedures may vary depending on the statistical test and the nature of the research question."
   ]
  },
  {
   "cell_type": "code",
   "execution_count": 19,
   "id": "65613242-aad3-4d82-a958-f2c31e5915be",
   "metadata": {},
   "outputs": [],
   "source": [
    "#Ans 8"
   ]
  },
  {
   "cell_type": "code",
   "execution_count": 20,
   "id": "79e6dc0e-ab02-48bb-8af1-a03620457d94",
   "metadata": {},
   "outputs": [],
   "source": [
    "# In hypothesis testing, the p-value is a probability measure that quantifies the strength of evidence against the null hypothesis. It represents the probability of obtaining the observed data or more extreme results, assuming that the null hypothesis is true. The p-value is a crucial component in determining the validity of a hypothesis test and making decisions based on the test results.\n",
    "\n",
    "# The significance of the p-value in hypothesis testing can be understood as follows:\n",
    "\n",
    "# 1. Assessing the strength of evidence: The p-value helps in evaluating the strength of evidence against the null hypothesis. A small p-value indicates that the observed data is unlikely to occur by chance alone under the assumption of the null hypothesis. Conversely, a large p-value suggests that the observed data is reasonably likely to occur even if the null hypothesis is true.\n",
    "\n",
    "# 2. Determining statistical significance: The p-value is compared to the pre-defined significance level (alpha) to determine statistical significance. If the p-value is smaller than the significance level, typically 0.05 or 0.01, it suggests that the evidence is strong enough to reject the null hypothesis in favor of the alternative hypothesis. On the other hand, if the p-value is greater than or equal to the significance level, there is insufficient evidence to reject the null hypothesis.\n",
    "\n",
    "# 3. Guiding decision-making: The p-value plays a vital role in making decisions based on hypothesis testing. When the null hypothesis is rejected due to a small p-value, it implies that the observed data provides evidence for the alternative hypothesis. This guides decision-making processes in various fields, such as scientific research, medicine, business, and policy-making.\n",
    "\n",
    "# 4. Influencing the strength of conclusions: The p-value influences the strength of the conclusions drawn from a hypothesis test. A smaller p-value indicates stronger evidence against the null hypothesis and supports more robust conclusions. Conversely, a larger p-value suggests weaker evidence against the null hypothesis and warrants cautious interpretations.\n",
    "\n",
    "# 5. Subject to interpretation and context: It is important to interpret the p-value in the context of the specific research question, significance level, sample size, and the assumptions made. The p-value alone does not provide information about the effect size, practical significance, or the importance of the observed difference. Therefore, careful consideration and interpretation of the p-value are necessary when drawing conclusions from hypothesis testing.\n",
    "\n",
    "# In summary, the p-value serves as a measure of the strength of evidence against the null hypothesis and aids in decision-making in hypothesis testing. It provides a quantitative assessment of the likelihood of observing the data under the null hypothesis and influences the conclusions drawn from the test."
   ]
  },
  {
   "cell_type": "code",
   "execution_count": 21,
   "id": "c2528152-5326-4f87-ba8e-43898c75ebe9",
   "metadata": {},
   "outputs": [],
   "source": [
    "#Ans 9"
   ]
  },
  {
   "cell_type": "code",
   "execution_count": 22,
   "id": "e8db2de4-959a-4b58-a730-3b52ec9534ce",
   "metadata": {},
   "outputs": [
    {
     "data": {
      "image/png": "[encoded data removed]",
      "text/plain": [
       "<Figure size 640x480 with 1 Axes>"
      ]
     },
     "metadata": {},
     "output_type": "display_data"
    }
   ],
   "source": [
    "import numpy as np\n",
    "import matplotlib.pyplot as plt\n",
    "import scipy.stats as stats\n",
    "\n",
    "# Generate x-values for the plot\n",
    "x = np.linspace(-4, 4, 500)\n",
    "\n",
    "# Calculate the probability density function (pdf) for Student's t-distribution\n",
    "df = 10  # Degrees of freedom\n",
    "pdf = stats.t.pdf(x, df)\n",
    "\n",
    "# Plot the t-distribution\n",
    "plt.plot(x, pdf, label='df = 10')\n",
    "plt.xlabel('x')\n",
    "plt.ylabel('Probability Density')\n",
    "plt.title(\"Student's t-distribution (df = 10)\")\n",
    "plt.legend()\n",
    "plt.grid(True)\n",
    "plt.show()\n"
   ]
  },
  {
   "cell_type": "code",
   "execution_count": 23,
   "id": "d002a7d2-1639-4cdb-b7fa-d52e06f3e569",
   "metadata": {},
   "outputs": [],
   "source": [
    "# In this code, we first generate a range of x-values using numpy.linspace to cover a span from -4 to 4. Then, we calculate the probability density function (pdf) for Student's t-distribution using scipy.stats.t.pdf, specifying the degrees of freedom as 10. Finally, we plot the t-distribution using matplotlib.pyplot.plot and add labels, a title, and a legend to the plot before displaying it using matplotlib.pyplot.show.\n",
    "\n",
    "# This code will generate a plot showing the probability density function of Student's t-distribution with 10 degrees of freedom. You can adjust the degrees of freedom value (df) to visualize the t-distribution for different parameter settings."
   ]
  },
  {
   "cell_type": "code",
   "execution_count": 24,
   "id": "fb1e1e2e-580c-48f0-88df-42fb1403702b",
   "metadata": {},
   "outputs": [],
   "source": [
    "#Ans 10"
   ]
  },
  {
   "cell_type": "code",
   "execution_count": 25,
   "id": "9be59ae5-dfd6-45f1-8022-7e61d7ab82d1",
   "metadata": {},
   "outputs": [
    {
     "name": "stdout",
     "output_type": "stream",
     "text": [
      "Test statistic: 0.5\n",
      "p-value: 0.6305360755569764\n"
     ]
    }
   ],
   "source": [
    "import numpy as np\n",
    "import scipy.stats as stats\n",
    "\n",
    "def two_sample_t_test(sample1, sample2):\n",
    "    # Calculate sample statistics\n",
    "    n1 = len(sample1)\n",
    "    n2 = len(sample2)\n",
    "    mean1 = np.mean(sample1)\n",
    "    mean2 = np.mean(sample2)\n",
    "    var1 = np.var(sample1, ddof=1)\n",
    "    var2 = np.var(sample2, ddof=1)\n",
    "\n",
    "    # Calculate the pooled standard deviation\n",
    "    pooled_std = np.sqrt((var1 + var2) / 2)\n",
    "\n",
    "    # Calculate the test statistic\n",
    "    t_stat = (mean1 - mean2) / (pooled_std * np.sqrt(2 / n1))\n",
    "\n",
    "    # Calculate the degrees of freedom\n",
    "    dof = n1 + n2 - 2\n",
    "\n",
    "    # Calculate the p-value\n",
    "    p_value = 2 * (1 - stats.t.cdf(abs(t_stat), dof))\n",
    "\n",
    "    return t_stat, p_value\n",
    "\n",
    "# Example usage\n",
    "sample1 = [2, 4, 6, 8, 10]  # First sample\n",
    "sample2 = [1, 3, 5, 7, 9]   # Second sample\n",
    "\n",
    "t_stat, p_value = two_sample_t_test(sample1, sample2)\n",
    "\n",
    "print(\"Test statistic:\", t_stat)\n",
    "print(\"p-value:\", p_value)\n"
   ]
  },
  {
   "cell_type": "code",
   "execution_count": 26,
   "id": "d31a9a6a-7b43-42d6-b49f-f9f59c56f326",
   "metadata": {},
   "outputs": [],
   "source": [
    "# In this program, we define the function two_sample_t_test that takes two samples (sample1 and sample2) as input. Inside the function, we calculate the sample statistics such as sample sizes (n1 and n2), sample means (mean1 and mean2), and sample variances (var1 and var2). Then, we calculate the pooled standard deviation as the square root of the average of the sample variances.\n",
    "\n",
    "# Next, we calculate the test statistic using the formula for a two-sample t-test for independent samples. The degrees of freedom are computed as the sum of the sample sizes minus 2. Finally, we calculate the p-value by comparing the test statistic to the t-distribution's cumulative distribution function (CDF).\n",
    "\n",
    "# In the example usage section, we provide two random samples (sample1 and sample2) of equal size. The program calculates the test statistic and the p-value using the two_sample_t_test function and prints them out.\n",
    "\n",
    "# Please note that this program assumes equal variances and equal sample sizes for simplicity. If the assumptions are not met, alternative tests or adjustments may be required"
   ]
  },
  {
   "cell_type": "code",
   "execution_count": 27,
   "id": "b73acd8c-4b75-4b6e-a81f-9de8ffa9c3bb",
   "metadata": {},
   "outputs": [],
   "source": [
    "#Ans 11"
   ]
  },
  {
   "cell_type": "code",
   "execution_count": 28,
   "id": "4ee4f943-e25b-492e-b690-2c25f40ab604",
   "metadata": {},
   "outputs": [],
   "source": [
    "# Student's t-distribution, often referred to as the t-distribution, is a probability distribution that is used in statistical inference for small sample sizes or when the population standard deviation is unknown. It is similar to the standard normal distribution (z-distribution) but has heavier tails, which accounts for the increased uncertainty associated with smaller sample sizes.\n",
    "\n",
    "# The t-distribution is characterized by its degrees of freedom (df), which determine its shape. As the degrees of freedom increase, the t-distribution approaches the shape of the standard normal distribution.\n",
    "\n",
    "# The t-distribution is used in the following scenarios:\n",
    "\n",
    "# Small sample sizes: When the sample size is small (typically less than 30), the t-distribution is used instead of the standard normal distribution. This is because the standard normal distribution assumes an infinite sample size, while the t-distribution accounts for the additional uncertainty associated with smaller sample sizes.\n",
    "\n",
    "# Unknown population standard deviation: When the population standard deviation is unknown and needs to be estimated from the sample, the t-distribution is used. It allows for a more accurate estimation of confidence intervals and hypothesis testing in such cases.\n",
    "\n",
    "# Comparing means: The t-distribution is commonly used when comparing means between two independent groups or conducting paired t-tests. It provides a framework for inference and hypothesis testing regarding the difference between means.\n",
    "\n",
    "# Confidence intervals: The t-distribution is used to construct confidence intervals for population parameters, such as the mean, when the sample size is small or the population standard deviation is unknown.\n",
    "\n",
    "# It is important to note that as the sample size increases, the t-distribution approaches the standard normal distribution. Therefore, when dealing with large sample sizes (typically greater than 30) and known population standard deviation, the standard normal distribution can be used instead of the t-distribution.\n",
    "\n",
    "# In summary, the t-distribution is a probability distribution used in statistical inference when working with small sample sizes or when the population standard deviation is unknown. It is particularly useful in hypothesis testing, confidence interval estimation, and comparing means."
   ]
  },
  {
   "cell_type": "code",
   "execution_count": 29,
   "id": "645f06c8-c56a-4a8b-993d-64f88fc22f08",
   "metadata": {},
   "outputs": [],
   "source": [
    "#Ans 12"
   ]
  },
  {
   "cell_type": "code",
   "execution_count": 30,
   "id": "f8433dcf-a76b-4644-adb8-64529bab3196",
   "metadata": {},
   "outputs": [],
   "source": [
    "# The t-statistic is a measure used in hypothesis testing and estimating population parameters when the population standard deviation is unknown and must be estimated from the sample. It assesses the difference between a sample statistic (such as the sample mean) and a population parameter under the null hypothesis.\n",
    "\n",
    "# The formula for the t-statistic depends on the specific context and hypothesis being tested. Here are the commonly used formulas for the t-statistic in two scenarios:\n",
    "\n",
    "# One-sample t-test:\n",
    "\n",
    "# Suppose we have a sample of size n, with a sample mean (x̄) and sample standard deviation (s).\n",
    "# The one-sample t-statistic is used to test the null hypothesis that the population mean (μ) is equal to a specific value (μ₀).\n",
    "# The formula for the one-sample t-statistic is:\n",
    "# t = (x̄ - μ₀) / (s / √n)\n",
    "# Two-sample t-test:\n",
    "\n",
    "# In the case of comparing means between two independent samples (e.g., two different groups), we use the two-sample t-test.\n",
    "# Let's consider two samples, each with sizes n₁ and n₂, sample means (x̄₁ and x̄₂), and sample standard deviations (s₁ and s₂).\n",
    "# The two-sample t-statistic is used to test the null hypothesis that the population means of the two groups are equal.\n",
    "# The formula for the two-sample t-statistic is:\n",
    "# t = (x̄₁ - x̄₂) / √[(s₁² / n₁) + (s₂² / n₂)]\n",
    "# In both formulas, x̄ represents the sample mean, μ₀ is the null hypothesis value, s represents the sample standard deviation, n is the sample size, and √ denotes the square root.\n",
    "\n",
    "# After calculating the t-statistic, it is then compared to the critical value from the t-distribution or used to calculate a p-value to assess the statistical significance of the observed difference."
   ]
  },
  {
   "cell_type": "code",
   "execution_count": 31,
   "id": "e27c1030-acd5-44d2-b279-23d362447456",
   "metadata": {},
   "outputs": [],
   "source": [
    "#Ans 13"
   ]
  },
  {
   "cell_type": "code",
   "execution_count": 32,
   "id": "38157619-463b-4207-8796-cbad1c6a83cc",
   "metadata": {},
   "outputs": [],
   "source": [
    "# To estimate the population mean revenue with a 95% confidence interval, we can use the sample mean and standard deviation along with the t-distribution. Here's how we can calculate it:\n",
    "\n",
    "# Given information:\n",
    "\n",
    "# Sample size (n) = 50\n",
    "# Sample mean (x̄) = $500\n",
    "# Sample standard deviation (s) = $50\n",
    "# Since we don't have information about the population standard deviation, we'll use the t-distribution. For a 95% confidence interval, the significance level (alpha) is 0.05, and we'll use the t-distribution with (n-1) degrees of freedom.\n",
    "\n",
    "# The formula for the confidence interval is:\n",
    "# Confidence interval = x̄ ± (t * (s / √n))\n",
    "\n",
    "# First, we need to find the critical value (t) from the t-distribution table or using statistical software. Since the sample size is 50, the degrees of freedom will be (n - 1) = 49. For a 95% confidence level and 49 degrees of freedom, the critical value is approximately 2.01.\n",
    "\n",
    "# Now, we can calculate the confidence interval:\n",
    "# Confidence interval = 500 ± (2.01 * (50 / √50))\n",
    "# = 500 ± (2.01 * (50 / 7.071))\n",
    "# = 500 ± (2.01 * 7.071)\n",
    "# = 500 ± 14.229\n",
    "# = ($485.771, $514.229)\n",
    "\n",
    "# Therefore, the 95% confidence interval estimate for the population mean revenue is ($485.771, $514.229). We can be 95% confident that the true average daily revenue for the coffee shop falls within this range based on the given sample."
   ]
  },
  {
   "cell_type": "code",
   "execution_count": 33,
   "id": "4deb5402-b81b-41ac-aa74-b2c179fcccf8",
   "metadata": {},
   "outputs": [],
   "source": [
    "#Ans 14"
   ]
  },
  {
   "cell_type": "code",
   "execution_count": 34,
   "id": "2f71a294-9b5c-4738-952c-71128d4299ab",
   "metadata": {},
   "outputs": [],
   "source": [
    "# To test the hypothesis that the new drug decreases blood pressure by 10 mmHg, we can use a one-sample t-test. Here's how we can conduct the test:\n",
    "\n",
    "# Given information:\n",
    "\n",
    "# Sample size (n) = 100\n",
    "# Sample mean decrease in blood pressure (x̄) = 8 mmHg\n",
    "# Sample standard deviation (s) = 3 mmHg\n",
    "# Hypothesized mean decrease in blood pressure (μ₀) = 10 mmHg\n",
    "# Significance level (alpha) = 0.05\n",
    "# We need to determine if the observed sample mean of 8 mmHg is significantly different from the hypothesized mean of 10 mmHg.\n",
    "\n",
    "# The null hypothesis (H₀) states that the mean decrease in blood pressure is equal to 10 mmHg, and the alternative hypothesis (H₁) states that the mean decrease is not equal to 10 mmHg.\n",
    "\n",
    "# We'll perform a two-tailed t-test because we want to detect any difference, whether it's an increase or decrease in blood pressure.\n",
    "\n",
    "# The formula for the t-test statistic is:\n",
    "# t = (x̄ - μ₀) / (s / √n)\n",
    "\n",
    "# Plugging in the values:\n",
    "# t = (8 - 10) / (3 / √100)\n",
    "# = -2 / (3 / 10)\n",
    "# = -2 * (10 / 3)\n",
    "# = -20 / 3\n",
    "# ≈ -6.67\n",
    "\n",
    "# Now, we need to compare this t-value to the critical value from the t-distribution with (n - 1) degrees of freedom. With 100 patients, the degrees of freedom will be 99.\n",
    "\n",
    "# For a significance level of 0.05, a two-tailed test divides the alpha value by 2, resulting in a critical value of approximately ±1.984 (obtained from a t-distribution table or statistical software).\n",
    "\n",
    "# Since the absolute value of the calculated t-value (-6.67) is greater than the critical value (1.984), we can reject the null hypothesis.\n",
    "\n",
    "# Therefore, we conclude that there is evidence to suggest that the new drug decreases blood pressure by a value significantly different from 10 mmHg, based on the sample data with a significance level of 0.05."
   ]
  },
  {
   "cell_type": "code",
   "execution_count": 35,
   "id": "56afd4ba-52dc-4a3e-955e-af872a6af6b3",
   "metadata": {},
   "outputs": [],
   "source": [
    "#Ans 15"
   ]
  },
  {
   "cell_type": "code",
   "execution_count": 37,
   "id": "1d52415d-0d5f-40ed-ab13-766ef9305c39",
   "metadata": {},
   "outputs": [],
   "source": [
    "# To test the hypothesis that the true mean weight of the products is less than 5 pounds, we can use a one-sample t-test. Here's how we can conduct the test:\n",
    "\n",
    "# Given information:\n",
    "\n",
    "# Population mean weight (μ) = 5 pounds\n",
    "# Population standard deviation (σ) = 0.5 pounds\n",
    "# Sample size (n) = 25\n",
    "# Sample mean weight (x̄) = 4.8 pounds\n",
    "# Significance level (alpha) = 0.01\n",
    "# The null hypothesis (H₀) states that the true mean weight is equal to 5 pounds, and the alternative hypothesis (H₁) states that the true mean weight is less than 5 pounds.\n",
    "\n",
    "# We'll perform a one-tailed t-test because we are specifically testing if the mean weight is less than 5 pounds.\n",
    "\n",
    "# The formula for the t-test statistic is:\n",
    "# t = (x̄ - μ) / (s / √n)\n",
    "\n",
    "# Plugging in the values:\n",
    "# t = (4.8 - 5) / (0.5 / √25)\n",
    "# = -0.2 / (0.5 / 5)\n",
    "# = -0.2 / 0.1\n",
    "# = -2\n",
    "\n",
    "# Now, we need to compare this t-value to the critical value from the t-distribution with (n - 1) degrees of freedom. With 25 products, the degrees of freedom will be 24.\n",
    "\n",
    "# For a significance level of 0.01 and a one-tailed test (testing if the mean is less than 5 pounds), the critical value is approximately -2.492 (obtained from a t-distribution table or statistical software).\n",
    "\n",
    "# Since the calculated t-value (-2) is greater than the critical value (-2.492), we can reject the null hypothesis.\n",
    "\n",
    "# Therefore, we conclude that there is evidence to suggest that the true mean weight of the products is less than 5 pounds, based on the sample data with a significance level of 0.01."
   ]
  },
  {
   "cell_type": "code",
   "execution_count": 36,
   "id": "095cec17-44bc-4038-9063-0d7e05179c80",
   "metadata": {},
   "outputs": [],
   "source": [
    "#Ans 16"
   ]
  },
  {
   "cell_type": "code",
   "execution_count": null,
   "id": "dd7ee93d-c4ed-4dc6-9c20-c09038d86e2a",
   "metadata": {},
   "outputs": [],
   "source": [
    "# To test the hypothesis that the population means for the two groups are equal, we can use a two-sample t-test for independent samples. Here's how we can conduct the test:\n",
    "\n",
    "Given information:\n",
    "\n",
    "Group 1: Sample size (n1) = 30, Sample mean score (x̄1) = 80, Sample standard deviation (s1) = 10\n",
    "Group 2: Sample size (n2) = 40, Sample mean score (x̄2) = 75, Sample standard deviation (s2) = 8\n",
    "Significance level (alpha) = 0.01\n",
    "The null hypothesis (H₀) states that the population means for the two groups are equal, and the alternative hypothesis (H₁) states that the population means are not equal.\n",
    "\n",
    "We'll perform a two-tailed t-test because we want to detect any difference, whether it's an increase or decrease in mean scores between the two groups.\n",
    "\n",
    "The formula for the two-sample t-test statistic is:\n",
    "t = (x̄1 - x̄2) / √[(s1² / n1) + (s2² / n2)]\n",
    "\n",
    "Plugging in the values:\n",
    "t = (80 - 75) / √[(10² / 30) + (8² / 40)]\n",
    "= 5 / √[(100 / 30) + (64 / 40)]\n",
    "= 5 / √[3.33 + 1.6]\n",
    "= 5 / √4.93\n",
    "≈ 5 / 2.22\n",
    "≈ 2.25\n",
    "\n",
    "Now, we need to compare this t-value to the critical value from the t-distribution with degrees of freedom given by (n1 - 1) and (n2 - 1). With n1 = 30 and n2 = 40, the degrees of freedom will be 29 and 39, respectively.\n",
    "\n",
    "For a significance level of 0.01 and a two-tailed test, the critical value is approximately ±2.711 (obtained from a t-distribution table or statistical software).\n",
    "\n",
    "Since the absolute value of the calculated t-value (2.25) is less than the critical value (2.711), we fail to reject the null hypothesis.\n",
    "\n",
    "Therefore, based on the sample data and a significance level of 0.01, there is not enough evidence to suggest that the population means for the two groups are different."
   ]
  }
 ],
 "metadata": {
  "kernelspec": {
   "display_name": "Python 3 (ipykernel)",
   "language": "python",
   "name": "python3"
  },
  "language_info": {
   "codemirror_mode": {
    "name": "ipython",
    "version": 3
   },
   "file_extension": ".py",
   "mimetype": "text/x-python",
   "name": "python",
   "nbconvert_exporter": "python",
   "pygments_lexer": "ipython3",
   "version": "3.10.8"
  }
 },
 "nbformat": 4,
 "nbformat_minor": 5
}
